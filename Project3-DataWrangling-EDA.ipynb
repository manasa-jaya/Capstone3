{
 "cells": [
  {
   "cell_type": "markdown",
   "id": "precious-election",
   "metadata": {},
   "source": [
    "This dataset is from Amazon's customer reviews on cell phones.This dataset focuses on both unlocked and locked carriers, and scoped on ten brands: ASUS, Apple, Google, HUAWEI, Motorola, Nokia, OnePlus, Samsung, Sony, and Xiaomi.\n",
    "In this notebook we are performing data wrangling and exploratory analysis."
   ]
  },
  {
   "cell_type": "markdown",
   "id": "amino-recycling",
   "metadata": {},
   "source": [
    "Goal : predict rating based on reviews. \n",
    "       Predict top 3 cell phone brands that have highest positive reviews. "
   ]
  },
  {
   "cell_type": "code",
   "execution_count": 1,
   "id": "bacterial-harmony",
   "metadata": {},
   "outputs": [],
   "source": [
    "#Code task 1#\n",
    "#Import pandas, matplotlib.pyplot, and seaborn in the correct lines below\n",
    "import pandas as pd\n",
    "import matplotlib.pyplot as plt\n",
    "import seaborn as sns\n",
    "import numpy as np"
   ]
  },
  {
   "cell_type": "code",
   "execution_count": 2,
   "id": "greatest-numbers",
   "metadata": {},
   "outputs": [],
   "source": [
    "items_data = pd.read_csv('/Users/jisasv1/Documents/dataScience/Datasets/Capstone3Data/items.csv')"
   ]
  },
  {
   "cell_type": "code",
   "execution_count": 3,
   "id": "polyphonic-married",
   "metadata": {},
   "outputs": [],
   "source": [
    "reviews_data = pd.read_csv('/Users/jisasv1/Documents/dataScience/Datasets/Capstone3Data/reviews.csv')"
   ]
  },
  {
   "cell_type": "code",
   "execution_count": 4,
   "id": "competitive-birmingham",
   "metadata": {},
   "outputs": [
    {
     "data": {
      "text/plain": [
       "(720, 10)"
      ]
     },
     "execution_count": 4,
     "metadata": {},
     "output_type": "execute_result"
    }
   ],
   "source": [
    "items_data.shape"
   ]
  },
  {
   "cell_type": "code",
   "execution_count": 5,
   "id": "fifty-rubber",
   "metadata": {
    "scrolled": true
   },
   "outputs": [
    {
     "data": {
      "text/html": [
       "<div>\n",
       "<style scoped>\n",
       "    .dataframe tbody tr th:only-of-type {\n",
       "        vertical-align: middle;\n",
       "    }\n",
       "\n",
       "    .dataframe tbody tr th {\n",
       "        vertical-align: top;\n",
       "    }\n",
       "\n",
       "    .dataframe thead th {\n",
       "        text-align: right;\n",
       "    }\n",
       "</style>\n",
       "<table border=\"1\" class=\"dataframe\">\n",
       "  <thead>\n",
       "    <tr style=\"text-align: right;\">\n",
       "      <th></th>\n",
       "      <th>asin</th>\n",
       "      <th>brand</th>\n",
       "      <th>title</th>\n",
       "      <th>url</th>\n",
       "      <th>image</th>\n",
       "      <th>rating</th>\n",
       "      <th>reviewUrl</th>\n",
       "      <th>totalReviews</th>\n",
       "      <th>price</th>\n",
       "      <th>originalPrice</th>\n",
       "    </tr>\n",
       "  </thead>\n",
       "  <tbody>\n",
       "    <tr>\n",
       "      <th>0</th>\n",
       "      <td>B0000SX2UC</td>\n",
       "      <td>NaN</td>\n",
       "      <td>Dual-Band / Tri-Mode Sprint PCS Phone w/ Voice...</td>\n",
       "      <td>https://www.amazon.com/Dual-Band-Tri-Mode-Acti...</td>\n",
       "      <td>https://m.media-amazon.com/images/I/2143EBQ210...</td>\n",
       "      <td>3.0</td>\n",
       "      <td>https://www.amazon.com/product-reviews/B0000SX2UC</td>\n",
       "      <td>14</td>\n",
       "      <td>0.00</td>\n",
       "      <td>0.0</td>\n",
       "    </tr>\n",
       "    <tr>\n",
       "      <th>1</th>\n",
       "      <td>B0009N5L7K</td>\n",
       "      <td>Motorola</td>\n",
       "      <td>Motorola I265 phone</td>\n",
       "      <td>https://www.amazon.com/Motorola-i265-I265-phon...</td>\n",
       "      <td>https://m.media-amazon.com/images/I/419WBAVDAR...</td>\n",
       "      <td>3.0</td>\n",
       "      <td>https://www.amazon.com/product-reviews/B0009N5L7K</td>\n",
       "      <td>7</td>\n",
       "      <td>49.95</td>\n",
       "      <td>0.0</td>\n",
       "    </tr>\n",
       "    <tr>\n",
       "      <th>2</th>\n",
       "      <td>B000SKTZ0S</td>\n",
       "      <td>Motorola</td>\n",
       "      <td>MOTOROLA C168i AT&amp;T CINGULAR PREPAID GOPHONE C...</td>\n",
       "      <td>https://www.amazon.com/MOTOROLA-C168i-CINGULAR...</td>\n",
       "      <td>https://m.media-amazon.com/images/I/71b+q3ydkI...</td>\n",
       "      <td>2.7</td>\n",
       "      <td>https://www.amazon.com/product-reviews/B000SKTZ0S</td>\n",
       "      <td>22</td>\n",
       "      <td>99.99</td>\n",
       "      <td>0.0</td>\n",
       "    </tr>\n",
       "    <tr>\n",
       "      <th>3</th>\n",
       "      <td>B001AO4OUC</td>\n",
       "      <td>Motorola</td>\n",
       "      <td>Motorola i335 Cell Phone Boost Mobile</td>\n",
       "      <td>https://www.amazon.com/Motorola-i335-Phone-Boo...</td>\n",
       "      <td>https://m.media-amazon.com/images/I/710UO8gdT+...</td>\n",
       "      <td>3.3</td>\n",
       "      <td>https://www.amazon.com/product-reviews/B001AO4OUC</td>\n",
       "      <td>21</td>\n",
       "      <td>0.00</td>\n",
       "      <td>0.0</td>\n",
       "    </tr>\n",
       "    <tr>\n",
       "      <th>4</th>\n",
       "      <td>B001DCJAJG</td>\n",
       "      <td>Motorola</td>\n",
       "      <td>Motorola V365 no contract cellular phone AT&amp;T</td>\n",
       "      <td>https://www.amazon.com/Motorola-V365-contract-...</td>\n",
       "      <td>https://m.media-amazon.com/images/I/61LYNCVrrK...</td>\n",
       "      <td>3.1</td>\n",
       "      <td>https://www.amazon.com/product-reviews/B001DCJAJG</td>\n",
       "      <td>12</td>\n",
       "      <td>149.99</td>\n",
       "      <td>0.0</td>\n",
       "    </tr>\n",
       "  </tbody>\n",
       "</table>\n",
       "</div>"
      ],
      "text/plain": [
       "         asin     brand                                              title  \\\n",
       "0  B0000SX2UC       NaN  Dual-Band / Tri-Mode Sprint PCS Phone w/ Voice...   \n",
       "1  B0009N5L7K  Motorola                                Motorola I265 phone   \n",
       "2  B000SKTZ0S  Motorola  MOTOROLA C168i AT&T CINGULAR PREPAID GOPHONE C...   \n",
       "3  B001AO4OUC  Motorola              Motorola i335 Cell Phone Boost Mobile   \n",
       "4  B001DCJAJG  Motorola      Motorola V365 no contract cellular phone AT&T   \n",
       "\n",
       "                                                 url  \\\n",
       "0  https://www.amazon.com/Dual-Band-Tri-Mode-Acti...   \n",
       "1  https://www.amazon.com/Motorola-i265-I265-phon...   \n",
       "2  https://www.amazon.com/MOTOROLA-C168i-CINGULAR...   \n",
       "3  https://www.amazon.com/Motorola-i335-Phone-Boo...   \n",
       "4  https://www.amazon.com/Motorola-V365-contract-...   \n",
       "\n",
       "                                               image  rating  \\\n",
       "0  https://m.media-amazon.com/images/I/2143EBQ210...     3.0   \n",
       "1  https://m.media-amazon.com/images/I/419WBAVDAR...     3.0   \n",
       "2  https://m.media-amazon.com/images/I/71b+q3ydkI...     2.7   \n",
       "3  https://m.media-amazon.com/images/I/710UO8gdT+...     3.3   \n",
       "4  https://m.media-amazon.com/images/I/61LYNCVrrK...     3.1   \n",
       "\n",
       "                                           reviewUrl  totalReviews   price  \\\n",
       "0  https://www.amazon.com/product-reviews/B0000SX2UC            14    0.00   \n",
       "1  https://www.amazon.com/product-reviews/B0009N5L7K             7   49.95   \n",
       "2  https://www.amazon.com/product-reviews/B000SKTZ0S            22   99.99   \n",
       "3  https://www.amazon.com/product-reviews/B001AO4OUC            21    0.00   \n",
       "4  https://www.amazon.com/product-reviews/B001DCJAJG            12  149.99   \n",
       "\n",
       "   originalPrice  \n",
       "0            0.0  \n",
       "1            0.0  \n",
       "2            0.0  \n",
       "3            0.0  \n",
       "4            0.0  "
      ]
     },
     "execution_count": 5,
     "metadata": {},
     "output_type": "execute_result"
    }
   ],
   "source": [
    "items_data.head()"
   ]
  },
  {
   "cell_type": "code",
   "execution_count": 6,
   "id": "adaptive-genesis",
   "metadata": {},
   "outputs": [
    {
     "data": {
      "text/plain": [
       "Index(['asin', 'brand', 'title', 'url', 'image', 'rating', 'reviewUrl',\n",
       "       'totalReviews', 'price', 'originalPrice'],\n",
       "      dtype='object')"
      ]
     },
     "execution_count": 6,
     "metadata": {},
     "output_type": "execute_result"
    }
   ],
   "source": [
    "items_data.columns"
   ]
  },
  {
   "cell_type": "code",
   "execution_count": 7,
   "id": "outside-tuesday",
   "metadata": {},
   "outputs": [
    {
     "data": {
      "text/plain": [
       "asin             0\n",
       "brand            4\n",
       "title            0\n",
       "url              0\n",
       "image            0\n",
       "rating           0\n",
       "reviewUrl        0\n",
       "totalReviews     0\n",
       "price            0\n",
       "originalPrice    0\n",
       "dtype: int64"
      ]
     },
     "execution_count": 7,
     "metadata": {},
     "output_type": "execute_result"
    }
   ],
   "source": [
    "items_data.isna().sum()"
   ]
  },
  {
   "cell_type": "code",
   "execution_count": 8,
   "id": "wanted-notion",
   "metadata": {},
   "outputs": [],
   "source": [
    "#There are some null values in brand column. "
   ]
  },
  {
   "cell_type": "code",
   "execution_count": 9,
   "id": "seeing-jaguar",
   "metadata": {},
   "outputs": [],
   "source": [
    "#Drop null values \n",
    "items_data.dropna(inplace=True) ## is it ok to drop ?? "
   ]
  },
  {
   "cell_type": "markdown",
   "id": "presidential-commission",
   "metadata": {},
   "source": [
    "##### Explore items_data dataset"
   ]
  },
  {
   "cell_type": "code",
   "execution_count": 10,
   "id": "technological-highland",
   "metadata": {},
   "outputs": [
    {
     "data": {
      "text/plain": [
       "asin             716\n",
       "brand             10\n",
       "title            714\n",
       "url              716\n",
       "image            675\n",
       "rating            33\n",
       "reviewUrl        716\n",
       "totalReviews     246\n",
       "price            451\n",
       "originalPrice     89\n",
       "dtype: int64"
      ]
     },
     "execution_count": 10,
     "metadata": {},
     "output_type": "execute_result"
    }
   ],
   "source": [
    "items_data.nunique()"
   ]
  },
  {
   "cell_type": "markdown",
   "id": "experienced-projection",
   "metadata": {},
   "source": [
    "Note that - Rating has 33 unique values, originalPrice 90 and price 453. There are 10 unique brands like we know."
   ]
  },
  {
   "cell_type": "code",
   "execution_count": 11,
   "id": "stable-promotion",
   "metadata": {},
   "outputs": [
    {
     "data": {
      "text/plain": [
       "3.7141061452513977"
      ]
     },
     "execution_count": 11,
     "metadata": {},
     "output_type": "execute_result"
    }
   ],
   "source": [
    "items_data.rating.mean()"
   ]
  },
  {
   "cell_type": "code",
   "execution_count": 12,
   "id": "unsigned-hostel",
   "metadata": {},
   "outputs": [
    {
     "data": {
      "text/plain": [
       "0    4.1\n",
       "dtype: float64"
      ]
     },
     "execution_count": 12,
     "metadata": {},
     "output_type": "execute_result"
    }
   ],
   "source": [
    "items_data.rating.mode() # the most frequently repeated value"
   ]
  },
  {
   "cell_type": "code",
   "execution_count": 13,
   "id": "threaded-angle",
   "metadata": {},
   "outputs": [],
   "source": [
    "#"
   ]
  },
  {
   "cell_type": "markdown",
   "id": "welsh-clearing",
   "metadata": {},
   "source": []
  },
  {
   "cell_type": "code",
   "execution_count": 14,
   "id": "prompt-eligibility",
   "metadata": {},
   "outputs": [
    {
     "data": {
      "text/plain": [
       "<AxesSubplot:xlabel='brand', ylabel='count'>"
      ]
     },
     "execution_count": 14,
     "metadata": {},
     "output_type": "execute_result"
    },
    {
     "data": {
      "image/png": "[encoded data removed]",
      "text/plain": [
       "<Figure size 1296x864 with 1 Axes>"
      ]
     },
     "metadata": {
      "needs_background": "light"
     },
     "output_type": "display_data"
    }
   ],
   "source": [
    "#Count how many phiones of each brand are there in items\n",
    "plt.figure(figsize=(18,12))\n",
    "sns.countplot(x='brand', data=items_data)\n",
    "#Refer: https://www.geeksforgeeks.org/countplot-using-seaborn-in-python/"
   ]
  },
  {
   "cell_type": "markdown",
   "id": "collaborative-thermal",
   "metadata": {},
   "source": [
    "So Samsung leads. There are almost 350 samsung phones in the items dataset, around 100 Motorola phones and around 65-70 Apple phones."
   ]
  },
  {
   "cell_type": "code",
   "execution_count": 15,
   "id": "expected-organizer",
   "metadata": {},
   "outputs": [
    {
     "data": {
      "text/plain": [
       "brand\n",
       "Samsung     37701\n",
       "Motorola     9419\n",
       "Apple        6315\n",
       "Nokia        6182\n",
       "Xiaomi       5574\n",
       "Google       4238\n",
       "Sony         3312\n",
       "HUAWEI       2467\n",
       "OnePlus       406\n",
       "ASUS          263\n",
       "Name: totalReviews, dtype: int64"
      ]
     },
     "execution_count": 15,
     "metadata": {},
     "output_type": "execute_result"
    }
   ],
   "source": [
    "#Based on items dataset, let' see which brand phone had max total reviews\n",
    "MaxReviews = items_data.groupby('brand')['totalReviews'].sum().sort_values(ascending=False)\n",
    "MaxReviews"
   ]
  },
  {
   "cell_type": "code",
   "execution_count": 16,
   "id": "earned-forest",
   "metadata": {},
   "outputs": [
    {
     "data": {
      "text/plain": [
       "<AxesSubplot:xlabel='brand'>"
      ]
     },
     "execution_count": 16,
     "metadata": {},
     "output_type": "execute_result"
    },
    {
     "data": {
      "image/png": "[encoded data removed]",
      "text/plain": [
       "<Figure size 1296x864 with 1 Axes>"
      ]
     },
     "metadata": {
      "needs_background": "light"
     },
     "output_type": "display_data"
    }
   ],
   "source": [
    "#Visualize which Brand has highest Total Reviews\n",
    "plt.figure(figsize=(18,12))\n",
    "MaxReviews.plot(kind='bar')"
   ]
  },
  {
   "cell_type": "markdown",
   "id": "dress-skill",
   "metadata": {},
   "source": [
    "No suprise here!! Samsung is the ost reviewed- at almost 37,000. The second highest Motorola has 9419, that's not even half of Samsung's reviews. Apple at third with 6315, followed closely by Nokia."
   ]
  },
  {
   "cell_type": "code",
   "execution_count": 17,
   "id": "indoor-climb",
   "metadata": {},
   "outputs": [
    {
     "data": {
      "text/plain": [
       "brand\n",
       "Xiaomi      4.415217\n",
       "HUAWEI      4.021875\n",
       "ASUS        3.860000\n",
       "Sony        3.788889\n",
       "Apple       3.782540\n",
       "Google      3.771053\n",
       "Motorola    3.643810\n",
       "Samsung     3.632659\n",
       "OnePlus     3.580000\n",
       "Nokia       3.386364\n",
       "Name: rating, dtype: float64"
      ]
     },
     "execution_count": 17,
     "metadata": {},
     "output_type": "execute_result"
    }
   ],
   "source": [
    "AvgItemRating = items_data.groupby('brand')['rating'].mean().sort_values(ascending=False)\n",
    "AvgItemRating"
   ]
  },
  {
   "cell_type": "code",
   "execution_count": 18,
   "id": "bacterial-whale",
   "metadata": {},
   "outputs": [
    {
     "data": {
      "text/plain": [
       "<AxesSubplot:xlabel='brand'>"
      ]
     },
     "execution_count": 18,
     "metadata": {},
     "output_type": "execute_result"
    },
    {
     "data": {
      "image/png": "[encoded data removed]",
      "text/plain": [
       "<Figure size 1296x864 with 1 Axes>"
      ]
     },
     "metadata": {
      "needs_background": "light"
     },
     "output_type": "display_data"
    }
   ],
   "source": [
    "#let's visulaize the same\n",
    "plt.figure(figsize=(18,12))\n",
    "AvgItemRating.plot(kind='bar')"
   ]
  },
  {
   "cell_type": "markdown",
   "id": "previous-skiing",
   "metadata": {},
   "source": [
    "So,Xiaomi has the highest avg rating of - 4.42, followed by HUAWEI at 4.02, at 3rd place ASUS at 3.86. According to this dataset, none of the big 3 brands - Samsung, Motorola and Apple have the highest average rating. "
   ]
  },
  {
   "cell_type": "code",
   "execution_count": 19,
   "id": "organic-zealand",
   "metadata": {},
   "outputs": [
    {
     "data": {
      "text/plain": [
       "<AxesSubplot:xlabel='brand', ylabel='rating'>"
      ]
     },
     "execution_count": 19,
     "metadata": {},
     "output_type": "execute_result"
    },
    {
     "data": {
      "image/png": "[encoded data removed]",
      "text/plain": [
       "<Figure size 864x576 with 1 Axes>"
      ]
     },
     "metadata": {
      "needs_background": "light"
     },
     "output_type": "display_data"
    }
   ],
   "source": [
    "plt.figure(figsize=(12,8))\n",
    "sns.boxplot(x='brand', y='rating', data=items_data) "
   ]
  },
  {
   "cell_type": "markdown",
   "id": "modular-twins",
   "metadata": {},
   "source": [
    "The graph tells a slightly different story. Xiaomi has the highest avg rating 4.4, not different from our calculation.  OnePlus stands in the second place at an avg rating of around 4.3. This is different from the rating what we calculaed earlier(3.5). This may be because it has outliers at a very low rating(at 1). We can see that Apple and Samsung also has many outliers.According to the graph, HUAWEI has an avg rating of 4.2. "
   ]
  },
  {
   "cell_type": "code",
   "execution_count": 20,
   "id": "unsigned-harvey",
   "metadata": {},
   "outputs": [
    {
     "data": {
      "text/plain": [
       "<AxesSubplot:xlabel='brand', ylabel='price'>"
      ]
     },
     "execution_count": 20,
     "metadata": {},
     "output_type": "execute_result"
    },
    {
     "data": {
      "image/png": "[encoded data removed]",
      "text/plain": [
       "<Figure size 864x576 with 1 Axes>"
      ]
     },
     "metadata": {
      "needs_background": "light"
     },
     "output_type": "display_data"
    }
   ],
   "source": [
    "plt.figure(figsize=(12,8))\n",
    "sns.boxplot(x='brand', y='price', data=items_data) "
   ]
  },
  {
   "cell_type": "markdown",
   "id": "aggregate-premium",
   "metadata": {},
   "source": [
    "According to this graph, Motorola's average price is around 150$ , Samsung around 200$ and Apple's avg price is \n",
    "around 280$ and One plus has a higher avg price of around 450$. Nokia has the cheapest pice . "
   ]
  },
  {
   "cell_type": "markdown",
   "id": "portable-hormone",
   "metadata": {},
   "source": [
    "##### Clean the reviews dataset"
   ]
  },
  {
   "cell_type": "code",
   "execution_count": 21,
   "id": "center-width",
   "metadata": {},
   "outputs": [
    {
     "data": {
      "text/plain": [
       "(67986, 8)"
      ]
     },
     "execution_count": 21,
     "metadata": {},
     "output_type": "execute_result"
    }
   ],
   "source": [
    "reviews_data.shape"
   ]
  },
  {
   "cell_type": "code",
   "execution_count": 22,
   "id": "organic-progressive",
   "metadata": {},
   "outputs": [
    {
     "data": {
      "text/html": [
       "<div>\n",
       "<style scoped>\n",
       "    .dataframe tbody tr th:only-of-type {\n",
       "        vertical-align: middle;\n",
       "    }\n",
       "\n",
       "    .dataframe tbody tr th {\n",
       "        vertical-align: top;\n",
       "    }\n",
       "\n",
       "    .dataframe thead th {\n",
       "        text-align: right;\n",
       "    }\n",
       "</style>\n",
       "<table border=\"1\" class=\"dataframe\">\n",
       "  <thead>\n",
       "    <tr style=\"text-align: right;\">\n",
       "      <th></th>\n",
       "      <th>asin</th>\n",
       "      <th>name</th>\n",
       "      <th>rating</th>\n",
       "      <th>date</th>\n",
       "      <th>verified</th>\n",
       "      <th>title</th>\n",
       "      <th>body</th>\n",
       "      <th>helpfulVotes</th>\n",
       "    </tr>\n",
       "  </thead>\n",
       "  <tbody>\n",
       "    <tr>\n",
       "      <th>0</th>\n",
       "      <td>B0000SX2UC</td>\n",
       "      <td>Janet</td>\n",
       "      <td>3</td>\n",
       "      <td>October 11, 2005</td>\n",
       "      <td>False</td>\n",
       "      <td>Def not best, but not worst</td>\n",
       "      <td>I had the Samsung A600 for awhile which is abs...</td>\n",
       "      <td>1.0</td>\n",
       "    </tr>\n",
       "    <tr>\n",
       "      <th>1</th>\n",
       "      <td>B0000SX2UC</td>\n",
       "      <td>Luke Wyatt</td>\n",
       "      <td>1</td>\n",
       "      <td>January 7, 2004</td>\n",
       "      <td>False</td>\n",
       "      <td>Text Messaging Doesn't Work</td>\n",
       "      <td>Due to a software issue between Nokia and Spri...</td>\n",
       "      <td>17.0</td>\n",
       "    </tr>\n",
       "    <tr>\n",
       "      <th>2</th>\n",
       "      <td>B0000SX2UC</td>\n",
       "      <td>Brooke</td>\n",
       "      <td>5</td>\n",
       "      <td>December 30, 2003</td>\n",
       "      <td>False</td>\n",
       "      <td>Love This Phone</td>\n",
       "      <td>This is a great, reliable phone. I also purcha...</td>\n",
       "      <td>5.0</td>\n",
       "    </tr>\n",
       "    <tr>\n",
       "      <th>3</th>\n",
       "      <td>B0000SX2UC</td>\n",
       "      <td>amy m. teague</td>\n",
       "      <td>3</td>\n",
       "      <td>March 18, 2004</td>\n",
       "      <td>False</td>\n",
       "      <td>Love the Phone, BUT...!</td>\n",
       "      <td>I love the phone and all, because I really did...</td>\n",
       "      <td>1.0</td>\n",
       "    </tr>\n",
       "    <tr>\n",
       "      <th>4</th>\n",
       "      <td>B0000SX2UC</td>\n",
       "      <td>tristazbimmer</td>\n",
       "      <td>4</td>\n",
       "      <td>August 28, 2005</td>\n",
       "      <td>False</td>\n",
       "      <td>Great phone service and options, lousy case!</td>\n",
       "      <td>The phone has been great for every purpose it ...</td>\n",
       "      <td>1.0</td>\n",
       "    </tr>\n",
       "    <tr>\n",
       "      <th>5</th>\n",
       "      <td>B0000SX2UC</td>\n",
       "      <td>J. White</td>\n",
       "      <td>4</td>\n",
       "      <td>September 25, 2005</td>\n",
       "      <td>False</td>\n",
       "      <td>Worked great for me</td>\n",
       "      <td>Hello, I have this phone and used it until I d...</td>\n",
       "      <td>NaN</td>\n",
       "    </tr>\n",
       "    <tr>\n",
       "      <th>6</th>\n",
       "      <td>B0000SX2UC</td>\n",
       "      <td>the cell phone store owner</td>\n",
       "      <td>5</td>\n",
       "      <td>April 16, 2004</td>\n",
       "      <td>False</td>\n",
       "      <td>Wanna cool Nokia? You have it here!</td>\n",
       "      <td>Cool. Cheap. Color: 3 words that describe the ...</td>\n",
       "      <td>2.0</td>\n",
       "    </tr>\n",
       "    <tr>\n",
       "      <th>7</th>\n",
       "      <td>B0000SX2UC</td>\n",
       "      <td>Matt</td>\n",
       "      <td>4</td>\n",
       "      <td>April 3, 2004</td>\n",
       "      <td>False</td>\n",
       "      <td>Problem with 3588i universal headset</td>\n",
       "      <td>The 3599i is overall a nice phone, except that...</td>\n",
       "      <td>2.0</td>\n",
       "    </tr>\n",
       "    <tr>\n",
       "      <th>8</th>\n",
       "      <td>B0000SX2UC</td>\n",
       "      <td>Charles Cook</td>\n",
       "      <td>5</td>\n",
       "      <td>November 24, 2003</td>\n",
       "      <td>False</td>\n",
       "      <td>cool phone!!!!!!!!</td>\n",
       "      <td>I've never owned a Nokia phone before, so this...</td>\n",
       "      <td>7.0</td>\n",
       "    </tr>\n",
       "    <tr>\n",
       "      <th>9</th>\n",
       "      <td>B0000SX2UC</td>\n",
       "      <td>Amazon Customer</td>\n",
       "      <td>3</td>\n",
       "      <td>February 2, 2004</td>\n",
       "      <td>False</td>\n",
       "      <td>Pissed off-a little bit</td>\n",
       "      <td>ok well im in school and i need the text messa...</td>\n",
       "      <td>3.0</td>\n",
       "    </tr>\n",
       "  </tbody>\n",
       "</table>\n",
       "</div>"
      ],
      "text/plain": [
       "         asin                        name  rating                date  \\\n",
       "0  B0000SX2UC                       Janet       3    October 11, 2005   \n",
       "1  B0000SX2UC                  Luke Wyatt       1     January 7, 2004   \n",
       "2  B0000SX2UC                      Brooke       5   December 30, 2003   \n",
       "3  B0000SX2UC               amy m. teague       3      March 18, 2004   \n",
       "4  B0000SX2UC               tristazbimmer       4     August 28, 2005   \n",
       "5  B0000SX2UC                    J. White       4  September 25, 2005   \n",
       "6  B0000SX2UC  the cell phone store owner       5      April 16, 2004   \n",
       "7  B0000SX2UC                        Matt       4       April 3, 2004   \n",
       "8  B0000SX2UC                Charles Cook       5   November 24, 2003   \n",
       "9  B0000SX2UC             Amazon Customer       3    February 2, 2004   \n",
       "\n",
       "   verified                                         title  \\\n",
       "0     False                   Def not best, but not worst   \n",
       "1     False                   Text Messaging Doesn't Work   \n",
       "2     False                               Love This Phone   \n",
       "3     False                       Love the Phone, BUT...!   \n",
       "4     False  Great phone service and options, lousy case!   \n",
       "5     False                           Worked great for me   \n",
       "6     False           Wanna cool Nokia? You have it here!   \n",
       "7     False          Problem with 3588i universal headset   \n",
       "8     False                            cool phone!!!!!!!!   \n",
       "9     False                       Pissed off-a little bit   \n",
       "\n",
       "                                                body  helpfulVotes  \n",
       "0  I had the Samsung A600 for awhile which is abs...           1.0  \n",
       "1  Due to a software issue between Nokia and Spri...          17.0  \n",
       "2  This is a great, reliable phone. I also purcha...           5.0  \n",
       "3  I love the phone and all, because I really did...           1.0  \n",
       "4  The phone has been great for every purpose it ...           1.0  \n",
       "5  Hello, I have this phone and used it until I d...           NaN  \n",
       "6  Cool. Cheap. Color: 3 words that describe the ...           2.0  \n",
       "7  The 3599i is overall a nice phone, except that...           2.0  \n",
       "8  I've never owned a Nokia phone before, so this...           7.0  \n",
       "9  ok well im in school and i need the text messa...           3.0  "
      ]
     },
     "execution_count": 22,
     "metadata": {},
     "output_type": "execute_result"
    }
   ],
   "source": [
    "reviews_data.head(10)"
   ]
  },
  {
   "cell_type": "code",
   "execution_count": 23,
   "id": "sought-russell",
   "metadata": {},
   "outputs": [
    {
     "data": {
      "text/plain": [
       "asin                0\n",
       "name                2\n",
       "rating              0\n",
       "date                0\n",
       "verified            0\n",
       "title              14\n",
       "body               21\n",
       "helpfulVotes    40771\n",
       "dtype: int64"
      ]
     },
     "execution_count": 23,
     "metadata": {},
     "output_type": "execute_result"
    }
   ],
   "source": [
    "reviews_data.isna().sum()"
   ]
  },
  {
   "cell_type": "code",
   "execution_count": 24,
   "id": "intensive-dream",
   "metadata": {},
   "outputs": [],
   "source": [
    "#We have some missing values in Title and body. "
   ]
  },
  {
   "cell_type": "code",
   "execution_count": 25,
   "id": "everyday-memory",
   "metadata": {},
   "outputs": [
    {
     "data": {
      "text/html": [
       "<div>\n",
       "<style scoped>\n",
       "    .dataframe tbody tr th:only-of-type {\n",
       "        vertical-align: middle;\n",
       "    }\n",
       "\n",
       "    .dataframe tbody tr th {\n",
       "        vertical-align: top;\n",
       "    }\n",
       "\n",
       "    .dataframe thead th {\n",
       "        text-align: right;\n",
       "    }\n",
       "</style>\n",
       "<table border=\"1\" class=\"dataframe\">\n",
       "  <thead>\n",
       "    <tr style=\"text-align: right;\">\n",
       "      <th></th>\n",
       "      <th>asin</th>\n",
       "      <th>name</th>\n",
       "      <th>rating</th>\n",
       "      <th>date</th>\n",
       "      <th>verified</th>\n",
       "      <th>title</th>\n",
       "      <th>body</th>\n",
       "      <th>helpfulVotes</th>\n",
       "    </tr>\n",
       "  </thead>\n",
       "  <tbody>\n",
       "    <tr>\n",
       "      <th>9445</th>\n",
       "      <td>B00HPP3QD6</td>\n",
       "      <td>Jess</td>\n",
       "      <td>5</td>\n",
       "      <td>September 10, 2015</td>\n",
       "      <td>True</td>\n",
       "      <td>Five Stars</td>\n",
       "      <td>NaN</td>\n",
       "      <td>3.0</td>\n",
       "    </tr>\n",
       "    <tr>\n",
       "      <th>18055</th>\n",
       "      <td>B013XAPUW6</td>\n",
       "      <td>Chasidy Lambert</td>\n",
       "      <td>2</td>\n",
       "      <td>November 18, 2017</td>\n",
       "      <td>True</td>\n",
       "      <td>The Wrong Phone Color</td>\n",
       "      <td>NaN</td>\n",
       "      <td>NaN</td>\n",
       "    </tr>\n",
       "    <tr>\n",
       "      <th>19749</th>\n",
       "      <td>B018OMP8ES</td>\n",
       "      <td>Chasidy Lambert</td>\n",
       "      <td>2</td>\n",
       "      <td>November 18, 2017</td>\n",
       "      <td>True</td>\n",
       "      <td>The Wrong Phone Color</td>\n",
       "      <td>NaN</td>\n",
       "      <td>NaN</td>\n",
       "    </tr>\n",
       "    <tr>\n",
       "      <th>20892</th>\n",
       "      <td>B01CJ3SCJ6</td>\n",
       "      <td>Mandy Catoe</td>\n",
       "      <td>1</td>\n",
       "      <td>May 7, 2018</td>\n",
       "      <td>True</td>\n",
       "      <td>DON'T BUY FROM CLEAN ELECTRIC!!!!!</td>\n",
       "      <td>NaN</td>\n",
       "      <td>NaN</td>\n",
       "    </tr>\n",
       "    <tr>\n",
       "      <th>21149</th>\n",
       "      <td>B01CJ3SF02</td>\n",
       "      <td>Jessica</td>\n",
       "      <td>1</td>\n",
       "      <td>June 7, 2017</td>\n",
       "      <td>True</td>\n",
       "      <td>I regret this purchase!</td>\n",
       "      <td>NaN</td>\n",
       "      <td>1.0</td>\n",
       "    </tr>\n",
       "    <tr>\n",
       "      <th>21887</th>\n",
       "      <td>B01D1J9BGU</td>\n",
       "      <td>Amazon Customer</td>\n",
       "      <td>1</td>\n",
       "      <td>October 26, 2017</td>\n",
       "      <td>True</td>\n",
       "      <td>One Star</td>\n",
       "      <td>NaN</td>\n",
       "      <td>1.0</td>\n",
       "    </tr>\n",
       "    <tr>\n",
       "      <th>22917</th>\n",
       "      <td>B01DZ2CS4U</td>\n",
       "      <td>Mandy Catoe</td>\n",
       "      <td>1</td>\n",
       "      <td>May 7, 2018</td>\n",
       "      <td>True</td>\n",
       "      <td>DON'T BUY FROM CLEAN ELECTRIC!!!!!</td>\n",
       "      <td>NaN</td>\n",
       "      <td>NaN</td>\n",
       "    </tr>\n",
       "    <tr>\n",
       "      <th>29501</th>\n",
       "      <td>B01N9XOXCK</td>\n",
       "      <td>Ali</td>\n",
       "      <td>5</td>\n",
       "      <td>February 21, 2018</td>\n",
       "      <td>False</td>\n",
       "      <td>Hi</td>\n",
       "      <td>NaN</td>\n",
       "      <td>NaN</td>\n",
       "    </tr>\n",
       "    <tr>\n",
       "      <th>30010</th>\n",
       "      <td>B01NB1KG8U</td>\n",
       "      <td>Sylvester Ofosuhene</td>\n",
       "      <td>5</td>\n",
       "      <td>December 24, 2019</td>\n",
       "      <td>True</td>\n",
       "      <td>NaN</td>\n",
       "      <td>NaN</td>\n",
       "      <td>NaN</td>\n",
       "    </tr>\n",
       "    <tr>\n",
       "      <th>35596</th>\n",
       "      <td>B071JP8XDJ</td>\n",
       "      <td>Stephanie M</td>\n",
       "      <td>5</td>\n",
       "      <td>May 30, 2018</td>\n",
       "      <td>False</td>\n",
       "      <td>Love the camera!</td>\n",
       "      <td>NaN</td>\n",
       "      <td>1.0</td>\n",
       "    </tr>\n",
       "    <tr>\n",
       "      <th>36845</th>\n",
       "      <td>B072N3GKSM</td>\n",
       "      <td>Mustafa AL Dulaimi</td>\n",
       "      <td>1</td>\n",
       "      <td>November 7, 2017</td>\n",
       "      <td>True</td>\n",
       "      <td>One Star</td>\n",
       "      <td>NaN</td>\n",
       "      <td>108.0</td>\n",
       "    </tr>\n",
       "    <tr>\n",
       "      <th>43415</th>\n",
       "      <td>B077YTCMH9</td>\n",
       "      <td>Ali</td>\n",
       "      <td>5</td>\n",
       "      <td>February 21, 2018</td>\n",
       "      <td>False</td>\n",
       "      <td>Hi</td>\n",
       "      <td>NaN</td>\n",
       "      <td>NaN</td>\n",
       "    </tr>\n",
       "    <tr>\n",
       "      <th>45899</th>\n",
       "      <td>B079X7DQ4Q</td>\n",
       "      <td>Roberto</td>\n",
       "      <td>5</td>\n",
       "      <td>November 25, 2019</td>\n",
       "      <td>True</td>\n",
       "      <td>NaN</td>\n",
       "      <td>NaN</td>\n",
       "      <td>NaN</td>\n",
       "    </tr>\n",
       "    <tr>\n",
       "      <th>46470</th>\n",
       "      <td>B07BHT4KGM</td>\n",
       "      <td>Roberto</td>\n",
       "      <td>5</td>\n",
       "      <td>November 25, 2019</td>\n",
       "      <td>True</td>\n",
       "      <td>NaN</td>\n",
       "      <td>NaN</td>\n",
       "      <td>NaN</td>\n",
       "    </tr>\n",
       "    <tr>\n",
       "      <th>51628</th>\n",
       "      <td>B07H8Q3C9T</td>\n",
       "      <td>Annette Post</td>\n",
       "      <td>5</td>\n",
       "      <td>August 18, 2019</td>\n",
       "      <td>True</td>\n",
       "      <td>Just what i needed</td>\n",
       "      <td>NaN</td>\n",
       "      <td>NaN</td>\n",
       "    </tr>\n",
       "    <tr>\n",
       "      <th>52176</th>\n",
       "      <td>B07HD3QC65</td>\n",
       "      <td>Suputra Alip</td>\n",
       "      <td>4</td>\n",
       "      <td>October 28, 2019</td>\n",
       "      <td>True</td>\n",
       "      <td>good so far</td>\n",
       "      <td>NaN</td>\n",
       "      <td>NaN</td>\n",
       "    </tr>\n",
       "    <tr>\n",
       "      <th>55171</th>\n",
       "      <td>B07K4V3364</td>\n",
       "      <td>Amazon Customer</td>\n",
       "      <td>4</td>\n",
       "      <td>October 31, 2015</td>\n",
       "      <td>True</td>\n",
       "      <td>Four Stars</td>\n",
       "      <td>NaN</td>\n",
       "      <td>48.0</td>\n",
       "    </tr>\n",
       "    <tr>\n",
       "      <th>57837</th>\n",
       "      <td>B07NWKP41X</td>\n",
       "      <td>scott</td>\n",
       "      <td>5</td>\n",
       "      <td>July 17, 2019</td>\n",
       "      <td>True</td>\n",
       "      <td>Size Matters</td>\n",
       "      <td>NaN</td>\n",
       "      <td>2.0</td>\n",
       "    </tr>\n",
       "    <tr>\n",
       "      <th>61074</th>\n",
       "      <td>B07Q84DPZH</td>\n",
       "      <td>Lee</td>\n",
       "      <td>5</td>\n",
       "      <td>November 29, 2019</td>\n",
       "      <td>True</td>\n",
       "      <td>NaN</td>\n",
       "      <td>NaN</td>\n",
       "      <td>NaN</td>\n",
       "    </tr>\n",
       "    <tr>\n",
       "      <th>62205</th>\n",
       "      <td>B07QP9R469</td>\n",
       "      <td>Dwight</td>\n",
       "      <td>4</td>\n",
       "      <td>July 26, 2019</td>\n",
       "      <td>True</td>\n",
       "      <td>Good phone for your buck..</td>\n",
       "      <td>NaN</td>\n",
       "      <td>NaN</td>\n",
       "    </tr>\n",
       "    <tr>\n",
       "      <th>64371</th>\n",
       "      <td>B07V5KS95Y</td>\n",
       "      <td>Viet Nguyen</td>\n",
       "      <td>5</td>\n",
       "      <td>December 22, 2019</td>\n",
       "      <td>True</td>\n",
       "      <td>NaN</td>\n",
       "      <td>NaN</td>\n",
       "      <td>NaN</td>\n",
       "    </tr>\n",
       "  </tbody>\n",
       "</table>\n",
       "</div>"
      ],
      "text/plain": [
       "             asin                 name  rating                date  verified  \\\n",
       "9445   B00HPP3QD6                 Jess       5  September 10, 2015      True   \n",
       "18055  B013XAPUW6      Chasidy Lambert       2   November 18, 2017      True   \n",
       "19749  B018OMP8ES      Chasidy Lambert       2   November 18, 2017      True   \n",
       "20892  B01CJ3SCJ6          Mandy Catoe       1         May 7, 2018      True   \n",
       "21149  B01CJ3SF02              Jessica       1        June 7, 2017      True   \n",
       "21887  B01D1J9BGU      Amazon Customer       1    October 26, 2017      True   \n",
       "22917  B01DZ2CS4U          Mandy Catoe       1         May 7, 2018      True   \n",
       "29501  B01N9XOXCK                  Ali       5   February 21, 2018     False   \n",
       "30010  B01NB1KG8U  Sylvester Ofosuhene       5   December 24, 2019      True   \n",
       "35596  B071JP8XDJ          Stephanie M       5        May 30, 2018     False   \n",
       "36845  B072N3GKSM   Mustafa AL Dulaimi       1    November 7, 2017      True   \n",
       "43415  B077YTCMH9                  Ali       5   February 21, 2018     False   \n",
       "45899  B079X7DQ4Q              Roberto       5   November 25, 2019      True   \n",
       "46470  B07BHT4KGM              Roberto       5   November 25, 2019      True   \n",
       "51628  B07H8Q3C9T         Annette Post       5     August 18, 2019      True   \n",
       "52176  B07HD3QC65         Suputra Alip       4    October 28, 2019      True   \n",
       "55171  B07K4V3364      Amazon Customer       4    October 31, 2015      True   \n",
       "57837  B07NWKP41X                scott       5       July 17, 2019      True   \n",
       "61074  B07Q84DPZH                  Lee       5   November 29, 2019      True   \n",
       "62205  B07QP9R469               Dwight       4       July 26, 2019      True   \n",
       "64371  B07V5KS95Y          Viet Nguyen       5   December 22, 2019      True   \n",
       "\n",
       "                                    title body  helpfulVotes  \n",
       "9445                           Five Stars  NaN           3.0  \n",
       "18055               The Wrong Phone Color  NaN           NaN  \n",
       "19749               The Wrong Phone Color  NaN           NaN  \n",
       "20892  DON'T BUY FROM CLEAN ELECTRIC!!!!!  NaN           NaN  \n",
       "21149             I regret this purchase!  NaN           1.0  \n",
       "21887                            One Star  NaN           1.0  \n",
       "22917  DON'T BUY FROM CLEAN ELECTRIC!!!!!  NaN           NaN  \n",
       "29501                                  Hi  NaN           NaN  \n",
       "30010                                 NaN  NaN           NaN  \n",
       "35596                    Love the camera!  NaN           1.0  \n",
       "36845                            One Star  NaN         108.0  \n",
       "43415                                  Hi  NaN           NaN  \n",
       "45899                                 NaN  NaN           NaN  \n",
       "46470                                 NaN  NaN           NaN  \n",
       "51628                  Just what i needed  NaN           NaN  \n",
       "52176                         good so far  NaN           NaN  \n",
       "55171                          Four Stars  NaN          48.0  \n",
       "57837                        Size Matters  NaN           2.0  \n",
       "61074                                 NaN  NaN           NaN  \n",
       "62205          Good phone for your buck..  NaN           NaN  \n",
       "64371                                 NaN  NaN           NaN  "
      ]
     },
     "execution_count": 25,
     "metadata": {},
     "output_type": "execute_result"
    }
   ],
   "source": [
    "reviews_data[reviews_data['body'].isna()].head(25)"
   ]
  },
  {
   "cell_type": "markdown",
   "id": "spectacular-southeast",
   "metadata": {},
   "source": [
    "We could drop those rows in which both title and body is missing. "
   ]
  },
  {
   "cell_type": "code",
   "execution_count": 26,
   "id": "collected-yukon",
   "metadata": {},
   "outputs": [
    {
     "data": {
      "text/plain": [
       "0    67956\n",
       "1       25\n",
       "2        5\n",
       "dtype: int64"
      ]
     },
     "execution_count": 26,
     "metadata": {},
     "output_type": "execute_result"
    }
   ],
   "source": [
    "missing_reviews = reviews_data[['title', 'body']].isnull().sum(axis=1)\n",
    "missing_reviews.value_counts()"
   ]
  },
  {
   "cell_type": "code",
   "execution_count": 27,
   "id": "small-filter",
   "metadata": {},
   "outputs": [],
   "source": [
    "#ski_data = ski_data[missing_price!= 2]\n",
    "reviews_data = reviews_data[missing_reviews!= 2]"
   ]
  },
  {
   "cell_type": "code",
   "execution_count": 28,
   "id": "straight-carbon",
   "metadata": {},
   "outputs": [
    {
     "data": {
      "text/plain": [
       "asin                0\n",
       "name                2\n",
       "rating              0\n",
       "date                0\n",
       "verified            0\n",
       "title               9\n",
       "body               16\n",
       "helpfulVotes    40766\n",
       "dtype: int64"
      ]
     },
     "execution_count": 28,
     "metadata": {},
     "output_type": "execute_result"
    }
   ],
   "source": [
    "reviews_data.isna().sum()"
   ]
  },
  {
   "cell_type": "markdown",
   "id": "nominated-detection",
   "metadata": {},
   "source": [
    "##### Explore reviews_dataset"
   ]
  },
  {
   "cell_type": "code",
   "execution_count": 29,
   "id": "printable-domestic",
   "metadata": {},
   "outputs": [
    {
     "data": {
      "text/plain": [
       "3.8078286580073843"
      ]
     },
     "execution_count": 29,
     "metadata": {},
     "output_type": "execute_result"
    }
   ],
   "source": [
    "reviews_data.rating.mean()"
   ]
  },
  {
   "cell_type": "code",
   "execution_count": 30,
   "id": "radio-diary",
   "metadata": {},
   "outputs": [
    {
     "data": {
      "text/plain": [
       "0    5\n",
       "dtype: int64"
      ]
     },
     "execution_count": 30,
     "metadata": {},
     "output_type": "execute_result"
    }
   ],
   "source": [
    "reviews_data.rating.mode() # most frequently found rating"
   ]
  },
  {
   "cell_type": "markdown",
   "id": "white-topic",
   "metadata": {},
   "source": [
    "#### Merge dataframes"
   ]
  },
  {
   "cell_type": "code",
   "execution_count": 31,
   "id": "instructional-quest",
   "metadata": {},
   "outputs": [],
   "source": [
    "#let's check the columns in reviews and items datasets"
   ]
  },
  {
   "cell_type": "code",
   "execution_count": 32,
   "id": "utility-warren",
   "metadata": {},
   "outputs": [
    {
     "data": {
      "text/plain": [
       "Index(['asin', 'brand', 'title', 'url', 'image', 'rating', 'reviewUrl',\n",
       "       'totalReviews', 'price', 'originalPrice'],\n",
       "      dtype='object')"
      ]
     },
     "execution_count": 32,
     "metadata": {},
     "output_type": "execute_result"
    }
   ],
   "source": [
    "items_data.columns"
   ]
  },
  {
   "cell_type": "code",
   "execution_count": 33,
   "id": "derived-jacksonville",
   "metadata": {},
   "outputs": [
    {
     "data": {
      "text/plain": [
       "Index(['asin', 'name', 'rating', 'date', 'verified', 'title', 'body',\n",
       "       'helpfulVotes'],\n",
       "      dtype='object')"
      ]
     },
     "execution_count": 33,
     "metadata": {},
     "output_type": "execute_result"
    }
   ],
   "source": [
    "reviews_data.columns"
   ]
  },
  {
   "cell_type": "code",
   "execution_count": 34,
   "id": "transparent-princeton",
   "metadata": {},
   "outputs": [
    {
     "name": "stderr",
     "output_type": "stream",
     "text": [
      "/Users/jisasv1/anaconda3/lib/python3.8/site-packages/pandas/core/reshape/merge.py:1141: UserWarning: You are merging on int and float columns where the float values are not equal to their int representation\n",
      "  warnings.warn(\n"
     ]
    }
   ],
   "source": [
    "items_reviews= pd.merge(items_data, reviews_data, on=['asin','title','rating'])"
   ]
  },
  {
   "cell_type": "code",
   "execution_count": 35,
   "id": "mounted-seventh",
   "metadata": {},
   "outputs": [
    {
     "data": {
      "text/plain": [
       "asin              object\n",
       "brand             object\n",
       "title             object\n",
       "url               object\n",
       "image             object\n",
       "rating           float64\n",
       "reviewUrl         object\n",
       "totalReviews       int64\n",
       "price            float64\n",
       "originalPrice    float64\n",
       "dtype: object"
      ]
     },
     "execution_count": 35,
     "metadata": {},
     "output_type": "execute_result"
    }
   ],
   "source": [
    "items_data.dtypes"
   ]
  },
  {
   "cell_type": "code",
   "execution_count": 36,
   "id": "julian-stability",
   "metadata": {},
   "outputs": [
    {
     "data": {
      "text/plain": [
       "asin             object\n",
       "name             object\n",
       "rating            int64\n",
       "date             object\n",
       "verified           bool\n",
       "title            object\n",
       "body             object\n",
       "helpfulVotes    float64\n",
       "dtype: object"
      ]
     },
     "execution_count": 36,
     "metadata": {},
     "output_type": "execute_result"
    }
   ],
   "source": [
    "reviews_data.dtypes"
   ]
  },
  {
   "cell_type": "markdown",
   "id": "recreational-segment",
   "metadata": {},
   "source": [
    "Some columns have the same column names in both dataframes items_data and reviews_data. But their meaning and content is different. For example , rating in items_data is float datatype and in reviews_data it is of int datatype. The column 'title' is also present in both dataframes. In items_data it is title is name of the cell phone brand and in reviews it is the title of the reviews. "
   ]
  },
  {
   "cell_type": "code",
   "execution_count": 37,
   "id": "linear-provincial",
   "metadata": {},
   "outputs": [],
   "source": [
    "#Let's merge the dataframes only on  column 'asin'\n",
    "items_reviews= pd.merge(items_data, reviews_data, on='asin')"
   ]
  },
  {
   "cell_type": "code",
   "execution_count": 38,
   "id": "descending-edwards",
   "metadata": {},
   "outputs": [
    {
     "data": {
      "text/html": [
       "<div>\n",
       "<style scoped>\n",
       "    .dataframe tbody tr th:only-of-type {\n",
       "        vertical-align: middle;\n",
       "    }\n",
       "\n",
       "    .dataframe tbody tr th {\n",
       "        vertical-align: top;\n",
       "    }\n",
       "\n",
       "    .dataframe thead th {\n",
       "        text-align: right;\n",
       "    }\n",
       "</style>\n",
       "<table border=\"1\" class=\"dataframe\">\n",
       "  <thead>\n",
       "    <tr style=\"text-align: right;\">\n",
       "      <th></th>\n",
       "      <th>asin</th>\n",
       "      <th>brand</th>\n",
       "      <th>title_x</th>\n",
       "      <th>url</th>\n",
       "      <th>image</th>\n",
       "      <th>rating_x</th>\n",
       "      <th>reviewUrl</th>\n",
       "      <th>totalReviews</th>\n",
       "      <th>price</th>\n",
       "      <th>originalPrice</th>\n",
       "      <th>name</th>\n",
       "      <th>rating_y</th>\n",
       "      <th>date</th>\n",
       "      <th>verified</th>\n",
       "      <th>title_y</th>\n",
       "      <th>body</th>\n",
       "      <th>helpfulVotes</th>\n",
       "    </tr>\n",
       "  </thead>\n",
       "  <tbody>\n",
       "    <tr>\n",
       "      <th>0</th>\n",
       "      <td>B0009N5L7K</td>\n",
       "      <td>Motorola</td>\n",
       "      <td>Motorola I265 phone</td>\n",
       "      <td>https://www.amazon.com/Motorola-i265-I265-phon...</td>\n",
       "      <td>https://m.media-amazon.com/images/I/419WBAVDAR...</td>\n",
       "      <td>3.0</td>\n",
       "      <td>https://www.amazon.com/product-reviews/B0009N5L7K</td>\n",
       "      <td>7</td>\n",
       "      <td>49.95</td>\n",
       "      <td>0.0</td>\n",
       "      <td>Marcel Thomas</td>\n",
       "      <td>1</td>\n",
       "      <td>March 5, 2016</td>\n",
       "      <td>True</td>\n",
       "      <td>Stupid phone</td>\n",
       "      <td>DON'T BUY OUT OF SERVICE</td>\n",
       "      <td>NaN</td>\n",
       "    </tr>\n",
       "    <tr>\n",
       "      <th>1</th>\n",
       "      <td>B0009N5L7K</td>\n",
       "      <td>Motorola</td>\n",
       "      <td>Motorola I265 phone</td>\n",
       "      <td>https://www.amazon.com/Motorola-i265-I265-phon...</td>\n",
       "      <td>https://m.media-amazon.com/images/I/419WBAVDAR...</td>\n",
       "      <td>3.0</td>\n",
       "      <td>https://www.amazon.com/product-reviews/B0009N5L7K</td>\n",
       "      <td>7</td>\n",
       "      <td>49.95</td>\n",
       "      <td>0.0</td>\n",
       "      <td>William B.</td>\n",
       "      <td>4</td>\n",
       "      <td>February 9, 2006</td>\n",
       "      <td>False</td>\n",
       "      <td>Exellent Service</td>\n",
       "      <td>I have been with nextel for nearly a year now ...</td>\n",
       "      <td>NaN</td>\n",
       "    </tr>\n",
       "    <tr>\n",
       "      <th>2</th>\n",
       "      <td>B0009N5L7K</td>\n",
       "      <td>Motorola</td>\n",
       "      <td>Motorola I265 phone</td>\n",
       "      <td>https://www.amazon.com/Motorola-i265-I265-phon...</td>\n",
       "      <td>https://m.media-amazon.com/images/I/419WBAVDAR...</td>\n",
       "      <td>3.0</td>\n",
       "      <td>https://www.amazon.com/product-reviews/B0009N5L7K</td>\n",
       "      <td>7</td>\n",
       "      <td>49.95</td>\n",
       "      <td>0.0</td>\n",
       "      <td>K. Mcilhargey</td>\n",
       "      <td>5</td>\n",
       "      <td>February 7, 2006</td>\n",
       "      <td>False</td>\n",
       "      <td>I love it</td>\n",
       "      <td>I just got it and have to say its easy to use,...</td>\n",
       "      <td>NaN</td>\n",
       "    </tr>\n",
       "    <tr>\n",
       "      <th>3</th>\n",
       "      <td>B0009N5L7K</td>\n",
       "      <td>Motorola</td>\n",
       "      <td>Motorola I265 phone</td>\n",
       "      <td>https://www.amazon.com/Motorola-i265-I265-phon...</td>\n",
       "      <td>https://m.media-amazon.com/images/I/419WBAVDAR...</td>\n",
       "      <td>3.0</td>\n",
       "      <td>https://www.amazon.com/product-reviews/B0009N5L7K</td>\n",
       "      <td>7</td>\n",
       "      <td>49.95</td>\n",
       "      <td>0.0</td>\n",
       "      <td>Stephen Cahill</td>\n",
       "      <td>1</td>\n",
       "      <td>December 20, 2016</td>\n",
       "      <td>True</td>\n",
       "      <td>Phones locked</td>\n",
       "      <td>1 star because the phones locked so I have to ...</td>\n",
       "      <td>NaN</td>\n",
       "    </tr>\n",
       "    <tr>\n",
       "      <th>4</th>\n",
       "      <td>B0009N5L7K</td>\n",
       "      <td>Motorola</td>\n",
       "      <td>Motorola I265 phone</td>\n",
       "      <td>https://www.amazon.com/Motorola-i265-I265-phon...</td>\n",
       "      <td>https://m.media-amazon.com/images/I/419WBAVDAR...</td>\n",
       "      <td>3.0</td>\n",
       "      <td>https://www.amazon.com/product-reviews/B0009N5L7K</td>\n",
       "      <td>7</td>\n",
       "      <td>49.95</td>\n",
       "      <td>0.0</td>\n",
       "      <td>Mihir</td>\n",
       "      <td>5</td>\n",
       "      <td>December 13, 2009</td>\n",
       "      <td>True</td>\n",
       "      <td>Excellent product</td>\n",
       "      <td>The product has been very good. I had used thi...</td>\n",
       "      <td>NaN</td>\n",
       "    </tr>\n",
       "    <tr>\n",
       "      <th>5</th>\n",
       "      <td>B0009N5L7K</td>\n",
       "      <td>Motorola</td>\n",
       "      <td>Motorola I265 phone</td>\n",
       "      <td>https://www.amazon.com/Motorola-i265-I265-phon...</td>\n",
       "      <td>https://m.media-amazon.com/images/I/419WBAVDAR...</td>\n",
       "      <td>3.0</td>\n",
       "      <td>https://www.amazon.com/product-reviews/B0009N5L7K</td>\n",
       "      <td>7</td>\n",
       "      <td>49.95</td>\n",
       "      <td>0.0</td>\n",
       "      <td>L. Hughes</td>\n",
       "      <td>1</td>\n",
       "      <td>July 21, 2005</td>\n",
       "      <td>False</td>\n",
       "      <td>WARNING</td>\n",
       "      <td>My problems with nextel did not stop when I ca...</td>\n",
       "      <td>NaN</td>\n",
       "    </tr>\n",
       "    <tr>\n",
       "      <th>6</th>\n",
       "      <td>B0009N5L7K</td>\n",
       "      <td>Motorola</td>\n",
       "      <td>Motorola I265 phone</td>\n",
       "      <td>https://www.amazon.com/Motorola-i265-I265-phon...</td>\n",
       "      <td>https://m.media-amazon.com/images/I/419WBAVDAR...</td>\n",
       "      <td>3.0</td>\n",
       "      <td>https://www.amazon.com/product-reviews/B0009N5L7K</td>\n",
       "      <td>7</td>\n",
       "      <td>49.95</td>\n",
       "      <td>0.0</td>\n",
       "      <td>1 Stop 4 Whats HOT</td>\n",
       "      <td>5</td>\n",
       "      <td>June 27, 2009</td>\n",
       "      <td>False</td>\n",
       "      <td>NEXTEL BOOST PHONE</td>\n",
       "      <td>GREAT PRODUCT THAT IS AS GREAT FOR NEXTEL AS I...</td>\n",
       "      <td>NaN</td>\n",
       "    </tr>\n",
       "    <tr>\n",
       "      <th>7</th>\n",
       "      <td>B000SKTZ0S</td>\n",
       "      <td>Motorola</td>\n",
       "      <td>MOTOROLA C168i AT&amp;T CINGULAR PREPAID GOPHONE C...</td>\n",
       "      <td>https://www.amazon.com/MOTOROLA-C168i-CINGULAR...</td>\n",
       "      <td>https://m.media-amazon.com/images/I/71b+q3ydkI...</td>\n",
       "      <td>2.7</td>\n",
       "      <td>https://www.amazon.com/product-reviews/B000SKTZ0S</td>\n",
       "      <td>22</td>\n",
       "      <td>99.99</td>\n",
       "      <td>0.0</td>\n",
       "      <td>Thomas</td>\n",
       "      <td>4</td>\n",
       "      <td>September 17, 2010</td>\n",
       "      <td>True</td>\n",
       "      <td>Nice, but</td>\n",
       "      <td>I bought this phone to replace an LG phone tha...</td>\n",
       "      <td>NaN</td>\n",
       "    </tr>\n",
       "    <tr>\n",
       "      <th>8</th>\n",
       "      <td>B000SKTZ0S</td>\n",
       "      <td>Motorola</td>\n",
       "      <td>MOTOROLA C168i AT&amp;T CINGULAR PREPAID GOPHONE C...</td>\n",
       "      <td>https://www.amazon.com/MOTOROLA-C168i-CINGULAR...</td>\n",
       "      <td>https://m.media-amazon.com/images/I/71b+q3ydkI...</td>\n",
       "      <td>2.7</td>\n",
       "      <td>https://www.amazon.com/product-reviews/B000SKTZ0S</td>\n",
       "      <td>22</td>\n",
       "      <td>99.99</td>\n",
       "      <td>0.0</td>\n",
       "      <td>Kei, San Jose, CA</td>\n",
       "      <td>1</td>\n",
       "      <td>May 13, 2017</td>\n",
       "      <td>True</td>\n",
       "      <td>It seems it doesn't work with the existing AT&amp;...</td>\n",
       "      <td>I purchased this phone for my AT&amp;T phone repla...</td>\n",
       "      <td>NaN</td>\n",
       "    </tr>\n",
       "    <tr>\n",
       "      <th>9</th>\n",
       "      <td>B000SKTZ0S</td>\n",
       "      <td>Motorola</td>\n",
       "      <td>MOTOROLA C168i AT&amp;T CINGULAR PREPAID GOPHONE C...</td>\n",
       "      <td>https://www.amazon.com/MOTOROLA-C168i-CINGULAR...</td>\n",
       "      <td>https://m.media-amazon.com/images/I/71b+q3ydkI...</td>\n",
       "      <td>2.7</td>\n",
       "      <td>https://www.amazon.com/product-reviews/B000SKTZ0S</td>\n",
       "      <td>22</td>\n",
       "      <td>99.99</td>\n",
       "      <td>0.0</td>\n",
       "      <td>Kristy</td>\n",
       "      <td>1</td>\n",
       "      <td>March 13, 2019</td>\n",
       "      <td>True</td>\n",
       "      <td>Supply are needed</td>\n",
       "      <td>The phone did not come with a charger and didn...</td>\n",
       "      <td>NaN</td>\n",
       "    </tr>\n",
       "  </tbody>\n",
       "</table>\n",
       "</div>"
      ],
      "text/plain": [
       "         asin     brand                                            title_x  \\\n",
       "0  B0009N5L7K  Motorola                                Motorola I265 phone   \n",
       "1  B0009N5L7K  Motorola                                Motorola I265 phone   \n",
       "2  B0009N5L7K  Motorola                                Motorola I265 phone   \n",
       "3  B0009N5L7K  Motorola                                Motorola I265 phone   \n",
       "4  B0009N5L7K  Motorola                                Motorola I265 phone   \n",
       "5  B0009N5L7K  Motorola                                Motorola I265 phone   \n",
       "6  B0009N5L7K  Motorola                                Motorola I265 phone   \n",
       "7  B000SKTZ0S  Motorola  MOTOROLA C168i AT&T CINGULAR PREPAID GOPHONE C...   \n",
       "8  B000SKTZ0S  Motorola  MOTOROLA C168i AT&T CINGULAR PREPAID GOPHONE C...   \n",
       "9  B000SKTZ0S  Motorola  MOTOROLA C168i AT&T CINGULAR PREPAID GOPHONE C...   \n",
       "\n",
       "                                                 url  \\\n",
       "0  https://www.amazon.com/Motorola-i265-I265-phon...   \n",
       "1  https://www.amazon.com/Motorola-i265-I265-phon...   \n",
       "2  https://www.amazon.com/Motorola-i265-I265-phon...   \n",
       "3  https://www.amazon.com/Motorola-i265-I265-phon...   \n",
       "4  https://www.amazon.com/Motorola-i265-I265-phon...   \n",
       "5  https://www.amazon.com/Motorola-i265-I265-phon...   \n",
       "6  https://www.amazon.com/Motorola-i265-I265-phon...   \n",
       "7  https://www.amazon.com/MOTOROLA-C168i-CINGULAR...   \n",
       "8  https://www.amazon.com/MOTOROLA-C168i-CINGULAR...   \n",
       "9  https://www.amazon.com/MOTOROLA-C168i-CINGULAR...   \n",
       "\n",
       "                                               image  rating_x  \\\n",
       "0  https://m.media-amazon.com/images/I/419WBAVDAR...       3.0   \n",
       "1  https://m.media-amazon.com/images/I/419WBAVDAR...       3.0   \n",
       "2  https://m.media-amazon.com/images/I/419WBAVDAR...       3.0   \n",
       "3  https://m.media-amazon.com/images/I/419WBAVDAR...       3.0   \n",
       "4  https://m.media-amazon.com/images/I/419WBAVDAR...       3.0   \n",
       "5  https://m.media-amazon.com/images/I/419WBAVDAR...       3.0   \n",
       "6  https://m.media-amazon.com/images/I/419WBAVDAR...       3.0   \n",
       "7  https://m.media-amazon.com/images/I/71b+q3ydkI...       2.7   \n",
       "8  https://m.media-amazon.com/images/I/71b+q3ydkI...       2.7   \n",
       "9  https://m.media-amazon.com/images/I/71b+q3ydkI...       2.7   \n",
       "\n",
       "                                           reviewUrl  totalReviews  price  \\\n",
       "0  https://www.amazon.com/product-reviews/B0009N5L7K             7  49.95   \n",
       "1  https://www.amazon.com/product-reviews/B0009N5L7K             7  49.95   \n",
       "2  https://www.amazon.com/product-reviews/B0009N5L7K             7  49.95   \n",
       "3  https://www.amazon.com/product-reviews/B0009N5L7K             7  49.95   \n",
       "4  https://www.amazon.com/product-reviews/B0009N5L7K             7  49.95   \n",
       "5  https://www.amazon.com/product-reviews/B0009N5L7K             7  49.95   \n",
       "6  https://www.amazon.com/product-reviews/B0009N5L7K             7  49.95   \n",
       "7  https://www.amazon.com/product-reviews/B000SKTZ0S            22  99.99   \n",
       "8  https://www.amazon.com/product-reviews/B000SKTZ0S            22  99.99   \n",
       "9  https://www.amazon.com/product-reviews/B000SKTZ0S            22  99.99   \n",
       "\n",
       "   originalPrice                name  rating_y                date  verified  \\\n",
       "0            0.0       Marcel Thomas         1       March 5, 2016      True   \n",
       "1            0.0          William B.         4    February 9, 2006     False   \n",
       "2            0.0       K. Mcilhargey         5    February 7, 2006     False   \n",
       "3            0.0      Stephen Cahill         1   December 20, 2016      True   \n",
       "4            0.0               Mihir         5   December 13, 2009      True   \n",
       "5            0.0           L. Hughes         1       July 21, 2005     False   \n",
       "6            0.0  1 Stop 4 Whats HOT         5       June 27, 2009     False   \n",
       "7            0.0              Thomas         4  September 17, 2010      True   \n",
       "8            0.0   Kei, San Jose, CA         1        May 13, 2017      True   \n",
       "9            0.0              Kristy         1      March 13, 2019      True   \n",
       "\n",
       "                                             title_y  \\\n",
       "0                                       Stupid phone   \n",
       "1                                   Exellent Service   \n",
       "2                                          I love it   \n",
       "3                                      Phones locked   \n",
       "4                                  Excellent product   \n",
       "5                                            WARNING   \n",
       "6                                 NEXTEL BOOST PHONE   \n",
       "7                                          Nice, but   \n",
       "8  It seems it doesn't work with the existing AT&...   \n",
       "9                                  Supply are needed   \n",
       "\n",
       "                                                body  helpfulVotes  \n",
       "0                           DON'T BUY OUT OF SERVICE           NaN  \n",
       "1  I have been with nextel for nearly a year now ...           NaN  \n",
       "2  I just got it and have to say its easy to use,...           NaN  \n",
       "3  1 star because the phones locked so I have to ...           NaN  \n",
       "4  The product has been very good. I had used thi...           NaN  \n",
       "5  My problems with nextel did not stop when I ca...           NaN  \n",
       "6  GREAT PRODUCT THAT IS AS GREAT FOR NEXTEL AS I...           NaN  \n",
       "7  I bought this phone to replace an LG phone tha...           NaN  \n",
       "8  I purchased this phone for my AT&T phone repla...           NaN  \n",
       "9  The phone did not come with a charger and didn...           NaN  "
      ]
     },
     "execution_count": 38,
     "metadata": {},
     "output_type": "execute_result"
    }
   ],
   "source": [
    "items_reviews.head(10)"
   ]
  },
  {
   "cell_type": "code",
   "execution_count": 39,
   "id": "derived-teens",
   "metadata": {},
   "outputs": [
    {
     "data": {
      "text/plain": [
       "(67781, 17)"
      ]
     },
     "execution_count": 39,
     "metadata": {},
     "output_type": "execute_result"
    }
   ],
   "source": [
    "items_reviews.shape"
   ]
  },
  {
   "cell_type": "code",
   "execution_count": 40,
   "id": "driving-nylon",
   "metadata": {},
   "outputs": [],
   "source": [
    "#let's rename those columns to avoid ambiguity\n",
    "items_reviews= items_reviews.rename(columns={'title_x':'phone_title', 'rating_x':'item_overall_rating', 'rating_y':'review_rating',\n",
    "                                               'title_y':'review_title'})"
   ]
  },
  {
   "cell_type": "code",
   "execution_count": 41,
   "id": "second-bracket",
   "metadata": {
    "scrolled": true
   },
   "outputs": [
    {
     "data": {
      "text/plain": [
       "asin                       0\n",
       "brand                      0\n",
       "phone_title                0\n",
       "url                        0\n",
       "image                      0\n",
       "item_overall_rating        0\n",
       "reviewUrl                  0\n",
       "totalReviews               0\n",
       "price                      0\n",
       "originalPrice              0\n",
       "name                       2\n",
       "review_rating              0\n",
       "date                       0\n",
       "verified                   0\n",
       "review_title               9\n",
       "body                      16\n",
       "helpfulVotes           40701\n",
       "dtype: int64"
      ]
     },
     "execution_count": 41,
     "metadata": {},
     "output_type": "execute_result"
    }
   ],
   "source": [
    "items_reviews.isna().sum()"
   ]
  },
  {
   "cell_type": "markdown",
   "id": "opponent-impression",
   "metadata": {},
   "source": [
    "We can fill(replace) NAN values in review_title and body with empty string."
   ]
  },
  {
   "cell_type": "code",
   "execution_count": 42,
   "id": "coastal-burlington",
   "metadata": {},
   "outputs": [],
   "source": [
    "items_reviews.fillna(\" \",inplace=True)"
   ]
  },
  {
   "cell_type": "code",
   "execution_count": 43,
   "id": "grand-crystal",
   "metadata": {},
   "outputs": [
    {
     "data": {
      "text/plain": [
       "asin                   0\n",
       "brand                  0\n",
       "phone_title            0\n",
       "url                    0\n",
       "image                  0\n",
       "item_overall_rating    0\n",
       "reviewUrl              0\n",
       "totalReviews           0\n",
       "price                  0\n",
       "originalPrice          0\n",
       "name                   0\n",
       "review_rating          0\n",
       "date                   0\n",
       "verified               0\n",
       "review_title           0\n",
       "body                   0\n",
       "helpfulVotes           0\n",
       "dtype: int64"
      ]
     },
     "execution_count": 43,
     "metadata": {},
     "output_type": "execute_result"
    }
   ],
   "source": [
    "items_reviews.isna().sum()"
   ]
  },
  {
   "cell_type": "code",
   "execution_count": 44,
   "id": "downtown-entrance",
   "metadata": {
    "scrolled": true
   },
   "outputs": [
    {
     "data": {
      "image/png": "[encoded data removed]",
      "text/plain": [
       "<Figure size 864x720 with 2 Axes>"
      ]
     },
     "metadata": {
      "needs_background": "light"
     },
     "output_type": "display_data"
    }
   ],
   "source": [
    "#let's plot a heat map to see if there is a correlation between different columns\n",
    "plt.subplots(figsize=(12,10))\n",
    "sns.heatmap(items_reviews.corr());"
   ]
  },
  {
   "cell_type": "markdown",
   "id": "finite-nashville",
   "metadata": {},
   "source": [
    "This graph looks interesting. Although there is no high correlation between columns, we can see that price and item's_overall_rating are correlated. Not suprising, price and original Price are correlated. We can also see that item's overall_rating and review_rating have some correlation. There is also some positive correlation between tem_overall rating and original price."
   ]
  },
  {
   "cell_type": "markdown",
   "id": "streaming-referral",
   "metadata": {},
   "source": [
    "##### Save the file"
   ]
  },
  {
   "cell_type": "markdown",
   "id": "accessory-criterion",
   "metadata": {},
   "source": [
    "Let's save this file to use it in the next step - for pre-procesing and modeling."
   ]
  },
  {
   "cell_type": "code",
   "execution_count": 45,
   "id": "interesting-fishing",
   "metadata": {},
   "outputs": [],
   "source": [
    "items_reviews.to_csv('/Users/jisasv1/Documents/dataScience/Datasets/Capstone3Data/item_reviews.csv')"
   ]
  }
 ],
 "metadata": {
  "kernelspec": {
   "display_name": "Python 3",
   "language": "python",
   "name": "python3"
  },
  "language_info": {
   "codemirror_mode": {
    "name": "ipython",
    "version": 3
   },
   "file_extension": ".py",
   "mimetype": "text/x-python",
   "name": "python",
   "nbconvert_exporter": "python",
   "pygments_lexer": "ipython3",
   "version": "3.8.8"
  }
 },
 "nbformat": 4,
 "nbformat_minor": 5
}
